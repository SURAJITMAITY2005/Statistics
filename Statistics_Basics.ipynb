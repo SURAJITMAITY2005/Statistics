{
 "cells": [
  {
   "cell_type": "markdown",
   "id": "64db1dee",
   "metadata": {},
   "source": [
    " 1. What is Statistics, and Why is It Important?\n",
    "\n",
    "->Statistics is the science of collecting, analyzing, interpreting, presenting, and organizing data.\n",
    "Importance:\n",
    "    Makes data understandable   \n",
    "    Aids decision-making (business, healthcare, policy, etc.)       \n",
    "    Supports scientific research\n",
    "    Helps in forecasting and risk analysis\n",
    "\n",
    "2. Two Main Types of Statistics:\n",
    "\n",
    "->Descriptive Statistics – Summarizes data (e.g., mean, median, graphs).\n",
    "Inferential Statistics – Makes predictions or inferences about a population based on a sample (e.g., hypothesis testing, confidence intervals).\n",
    "\n",
    "3. What are Descriptive Statistics?\n",
    "\n",
    "->They describe the main features of a dataset using:\n",
    "    Central tendency (mean, median, mode)\n",
    "    Dispersion (range, variance, standard deviation)\n",
    "    Graphs (histograms, boxplots)\n",
    "\n",
    "4. What is Inferential Statistics?\n",
    "\n",
    "->It involves using a sample to draw conclusions about a population.\n",
    "Examples:\n",
    "    Estimating population parameters\n",
    "    Hypothesis testing\n",
    "    Regression analysis\n",
    "\n",
    "5. What is Sampling in Statistics?\n",
    "\n",
    "->Sampling is selecting a subset (sample) from a population to analyze and make inferences.\n",
    "\n",
    "6. Types of Sampling Methods:\n",
    "\n",
    "->Random Sampling – Every element has an equal chance\n",
    "Stratified Sampling – Divided into strata, random samples from each\n",
    "Systematic Sampling – Every kth item\n",
    "Cluster Sampling – Whole groups are randomly selected\n",
    "Convenience Sampling – Based on ease of access (non-random)\n",
    "\n",
    "7. Random vs Non-Random Sampling\n",
    "\n",
    "->Random Sampling\t        Non-Random Sampling\n",
    "        Low\t                   High\n",
    "\tProbability-based\t    Subjective or convenience\n",
    "ex:-Simple random,stratified\tex:-Convenience, quota\n",
    "\n",
    "8. Qualitative vs Quantitative Data\n",
    "\n",
    "->Qualitative (Categorical): Descriptive, not numerical\n",
    "Example: Colors, names, gender\n",
    "Quantitative (Numerical): Numerical values\n",
    "Example: Age, height, salary\n",
    "\n",
    "9. Types of Data in Statistics\n",
    "\n",
    "->Qualitative (Nominal, Ordinal)\n",
    "Quantitative (Interval, Ratio)\n",
    "\n",
    "10. Levels of Measurement:\n",
    "\n",
    "->Level\tDescription\tExample:\n",
    "Nominal\tCategories without order\tGender, Colors\n",
    "Ordinal\tOrdered categories\tRanks, Sizes\n",
    "Interval\tNumeric, no true zero\tTemperature (°C)\n",
    "Ratio\tNumeric, true zero\tAge, Weight\n",
    "\n",
    "11. What is the Measure of Central Tendency?\n",
    "\n",
    "->It summarizes a dataset with a single representative value.\n",
    "\n",
    "12. Mean, Median, and Mode\n",
    "\n",
    "->Mean: Arithmetic average\n",
    "Median: Middle value (when sorted)\n",
    "Mode: Most frequent value\n",
    "\n",
    "13. Significance of Central Tendency\n",
    "\n",
    "->Gives a snapshot of the \"typical\" value in a dataset\n",
    "Helps compare different datasets\n",
    "Basis for more advanced analysis\n",
    "\n",
    "14. What is Variance?\n",
    "\n",
    "Variance measures the average squared deviation from the mean.\n",
    "Formula (sample):\n",
    "Variance=∑(X𝑖−Xber)2/𝑛−1\n",
    "\n",
    " \n",
    "15. What is Skewness?\n",
    "\n",
    "->Skewness measures the asymmetry of data distribution.\n",
    "Positive Skew: Tail to the right (mean > median)\n",
    "Negative Skew: Tail to the left (mean < median)\n",
    "\n",
    "16. What is Standard Deviation and Why It’s Important?\n",
    "\n",
    "->It’s the square root of variance. Indicates how spread out the values are from the mean.\n",
    "Importance:\n",
    "    Helps understand data variability\n",
    "    Used in finance, risk, and quality control\n",
    "\n",
    "17. Range in Statistics\n",
    "\n",
    "->Range = Max – Min\n",
    "\n",
    "18. Difference Between Variance and Standard Deviation?\n",
    "\n",
    "->Variance: Squared measure, harder to interpret directly\n",
    "Standard Deviation: In same units as data, more intuitive\n",
    "\n",
    " 19. Positively vs Negatively Skewed?\n",
    "\n",
    "->Positive Skew: Long tail on the right (e.g., income)\n",
    "Negative Skew: Long tail on the left (e.g., test scores with easy questions)\n",
    "\n",
    "20. What is Kurtosis?\n",
    "\n",
    "->Kurtosis measures the \"tailedness\" or peak of a distribution.\n",
    "Leptokurtic (High): Heavy tails\n",
    "Platykurtic (Low): Light tails\n",
    "Mesokurtic: Normal bell curve\n",
    "\n",
    "21. What is the Purpose of Covariance?\n",
    "\n",
    "->Covariance measures how two variables move together.\n",
    "Positive: Variables increase together\n",
    "Negative: One increases, the other decreases\n",
    "\n",
    " 22. What Does Correlation Measure?\n",
    "\n",
    "->Correlation quantifies the strength and direction of a linear relationship between two variables (range: -1 to +1).\n",
    "\n",
    "23. Covariance vs Correlation?\n",
    "\n",
    "->Feature\tCovariance\tCorrelation\n",
    "Scale\tUnit dependent\tUnit independent (standardized)\n",
    "Range\tUnlimited\tBetween -1 and 1\n",
    "Use\tDirection only\tDirection and strength\n",
    "\n",
    "24. Real-World Applications of Statistics?\n",
    "\n",
    "->Healthcare: Clinical trials, epidemiology\n",
    "Business: Market research, quality control\n",
    "Finance: Risk analysis, stock forecasting\n",
    "Education: Exam analysis, research studies\n",
    "Government: Policy-making, census\n",
    "\n"
   ]
  },
  {
   "cell_type": "code",
   "execution_count": 8,
   "id": "03d45750",
   "metadata": {},
   "outputs": [
    {
     "name": "stdout",
     "output_type": "stream",
     "text": [
      "mean is:  26.5\n",
      "median is:  26.5\n",
      "mode is:  23\n"
     ]
    }
   ],
   "source": [
    "#1. How do you calculate the mean, median, and mode of a dataset.\n",
    "data_set=[23,24,25,26,27,28,29,30]\n",
    "import numpy as np\n",
    "print(\"mean is: \",np.mean(data_set))\n",
    "print(\"median is: \",np.median(data_set))\n",
    "import statistics as sat\n",
    "print(\"mode is: \",sat.mode(data_set))"
   ]
  },
  {
   "cell_type": "code",
   "execution_count": 9,
   "id": "39581d48",
   "metadata": {},
   "outputs": [
    {
     "name": "stdout",
     "output_type": "stream",
     "text": [
      "varience is:  5.25\n",
      "S.D is:  2.29128784747792\n"
     ]
    }
   ],
   "source": [
    "#2. Write a Python program to compute the variance and standard deviation of a dataset\n",
    "data_set=[23,24,25,26,27,28,29,30]\n",
    "import numpy as np\n",
    "print(\"varience is: \",np.var(data_set))\n",
    "print(\"S.D is: \",np.std(data_set))"
   ]
  },
  {
   "cell_type": "code",
   "execution_count": 10,
   "id": "bf291063",
   "metadata": {},
   "outputs": [],
   "source": [
    "# 3. Create a dataset and classify it into nominal, ordinal, interval, and ratio types\n",
    "dataset = {\n",
    "    \"nominal\": [\"Red\", \"yellow\", \"orange\"],\n",
    "    \"ordinal\": [\"Small\", \"Medium\", \"Large\"],\n",
    "    \"interval\": [10, 20, 30], \n",
    "    \"ratio\": [5, 10, 15]       \n",
    "}\n"
   ]
  },
  {
   "cell_type": "code",
   "execution_count": 11,
   "id": "a171e90a",
   "metadata": {},
   "outputs": [
    {
     "ename": "ModuleNotFoundError",
     "evalue": "No module named 'sklearn'",
     "output_type": "error",
     "traceback": [
      "\u001b[31m---------------------------------------------------------------------------\u001b[39m",
      "\u001b[31mModuleNotFoundError\u001b[39m                       Traceback (most recent call last)",
      "\u001b[36mCell\u001b[39m\u001b[36m \u001b[39m\u001b[32mIn[11]\u001b[39m\u001b[32m, line 3\u001b[39m\n\u001b[32m      1\u001b[39m \u001b[38;5;66;03m#4.Implement sampling techniques like random sampling and stratified sampling\u001b[39;00m\n\u001b[32m      2\u001b[39m \u001b[38;5;28;01mimport\u001b[39;00m\u001b[38;5;250m \u001b[39m\u001b[34;01mpandas\u001b[39;00m\u001b[38;5;250m \u001b[39m\u001b[38;5;28;01mas\u001b[39;00m\u001b[38;5;250m \u001b[39m\u001b[34;01mpd\u001b[39;00m\n\u001b[32m----> \u001b[39m\u001b[32m3\u001b[39m \u001b[38;5;28;01mfrom\u001b[39;00m\u001b[38;5;250m \u001b[39m\u001b[34;01msklearn\u001b[39;00m\u001b[34;01m.\u001b[39;00m\u001b[34;01mmodel_selection\u001b[39;00m\u001b[38;5;250m \u001b[39m\u001b[38;5;28;01mimport\u001b[39;00m train_test_split\n\u001b[32m      4\u001b[39m df = pd.DataFrame({\n\u001b[32m      5\u001b[39m     \u001b[33m'\u001b[39m\u001b[33mgender\u001b[39m\u001b[33m'\u001b[39m: [\u001b[33m'\u001b[39m\u001b[33mM\u001b[39m\u001b[33m'\u001b[39m, \u001b[33m'\u001b[39m\u001b[33mF\u001b[39m\u001b[33m'\u001b[39m, \u001b[33m'\u001b[39m\u001b[33mF\u001b[39m\u001b[33m'\u001b[39m, \u001b[33m'\u001b[39m\u001b[33mM\u001b[39m\u001b[33m'\u001b[39m, \u001b[33m'\u001b[39m\u001b[33mF\u001b[39m\u001b[33m'\u001b[39m, \u001b[33m'\u001b[39m\u001b[33mM\u001b[39m\u001b[33m'\u001b[39m, \u001b[33m'\u001b[39m\u001b[33mM\u001b[39m\u001b[33m'\u001b[39m, \u001b[33m'\u001b[39m\u001b[33mF\u001b[39m\u001b[33m'\u001b[39m],\n\u001b[32m      6\u001b[39m     \u001b[33m'\u001b[39m\u001b[33mscore\u001b[39m\u001b[33m'\u001b[39m: [\u001b[32m77\u001b[39m, \u001b[32m99\u001b[39m, \u001b[32m88\u001b[39m, \u001b[32m55\u001b[39m, \u001b[32m78\u001b[39m, \u001b[32m22\u001b[39m, \u001b[32m86\u001b[39m, \u001b[32m30\u001b[39m]\n\u001b[32m      7\u001b[39m })\n\u001b[32m      8\u001b[39m random_sample = df.sample(n=\u001b[32m4\u001b[39m)\n",
      "\u001b[31mModuleNotFoundError\u001b[39m: No module named 'sklearn'"
     ]
    }
   ],
   "source": [
    "#4.Implement sampling techniques like random sampling and stratified sampling\n",
    "import pandas as pd\n",
    "from sklearn.model_selection import train_test_split\n",
    "df = pd.DataFrame({\n",
    "    'gender': ['M', 'F', 'F', 'M', 'F', 'M', 'M', 'F'],\n",
    "    'score': [77, 99, 88, 55, 78, 22, 86, 30]\n",
    "})\n",
    "random_sample = df.sample(n=4)\n",
    "stratified_sample, _ = train_test_split(df, test_size=0.5, stratify=df['gender'])\n",
    "\n",
    "print(\"Random Sample:\\n\", random_sample)\n",
    "print(\"Stratified Sample:\\n\", stratified_sample)\n"
   ]
  },
  {
   "cell_type": "code",
   "execution_count": null,
   "id": "0d22eb58",
   "metadata": {},
   "outputs": [
    {
     "name": "stdout",
     "output_type": "stream",
     "text": [
      "Range: 7\n"
     ]
    }
   ],
   "source": [
    "#5. Write a Python function to calculate the range of a dataset\n",
    "def calculate_range(data):\n",
    "    return max(data) - min(data)\n",
    "data_set=[23,24,25,26,27,28,29,30]\n",
    "print(\"Range:\", calculate_range(data_set))\n"
   ]
  },
  {
   "cell_type": "code",
   "execution_count": null,
   "metadata": {},
   "outputs": [
    {
     "data": {
      "image/png": "[encoded data removed]",
      "text/plain": [
       "<Figure size 640x480 with 1 Axes>"
      ]
     },
     "metadata": {},
     "output_type": "display_data"
    }
   ],
   "source": [
    "#6.  Create a dataset and plot its histogram to visualize skewness\n",
    "import matplotlib.pyplot as plt\n",
    "data_set=[23,24,25,26,27,28,29,30]\n",
    "plt.hist(data_set, bins=5)\n",
    "plt.title(\"Histogram\")\n",
    "plt.xlabel(\"Values\")\n",
    "plt.ylabel(\"Frequency\")\n",
    "plt.show()\n"
   ]
  },
  {
   "cell_type": "code",
   "execution_count": null,
   "id": "9864a7bc",
   "metadata": {},
   "outputs": [],
   "source": [
    "#7.Calculate skewness and kurtosis of a dataset using Python libraries\n",
    "from scipy.stats import skew, kurtosis\n",
    "data_set=[23,24,25,26,27,28,29,30]\n",
    "print(\"Skewness:\", skew(data_set))\n",
    "print(\"Kurtosis:\", kurtosis(data_set))\n"
   ]
  },
  {
   "cell_type": "code",
   "execution_count": null,
   "id": "2f30c4c1",
   "metadata": {},
   "outputs": [],
   "source": [
    "#8. Generate a dataset and demonstrate positive and negative skewness\n",
    "p_skew = [1, 2, 2, 3, 4, 10]\n",
    "n_skew = [10, 8, 6, 4, 4, 3, 2]\n",
    "print(\"Positive Skew:\", skew(p_skew))\n",
    "print(\"Negative Skew:\", skew(n_skew))\n"
   ]
  },
  {
   "cell_type": "code",
   "execution_count": null,
   "id": "e3c45603",
   "metadata": {},
   "outputs": [
    {
     "name": "stdout",
     "output_type": "stream",
     "text": [
      "Covariance Matrix:\n",
      " [[ 2.5  5. ]\n",
      " [ 5.  10. ]]\n"
     ]
    }
   ],
   "source": [
    "#9.Write a Python script to calculate covariance between two datasets\n",
    "x = [1, 2, 3, 4, 5]\n",
    "y = [2, 4, 6, 8, 10]\n",
    "cov_matrix = np.cov(x, y)\n",
    "print(\"Covariance Matrix:\\n\", cov_matrix)\n"
   ]
  },
  {
   "cell_type": "code",
   "execution_count": null,
   "id": "388fa062",
   "metadata": {},
   "outputs": [],
   "source": [
    "#10.Write a Python script to calculate the correlation coefficient between two datasets\n"
   ]
  },
  {
   "cell_type": "code",
   "execution_count": null,
   "id": "c855d185",
   "metadata": {},
   "outputs": [],
   "source": [
    "#11. Create a scatter plot to visualize the relationship between two variables\n"
   ]
  },
  {
   "cell_type": "code",
   "execution_count": null,
   "id": "f45a8371",
   "metadata": {},
   "outputs": [],
   "source": [
    "#12. Implement and compare simple random sampling and systematic sampling\n"
   ]
  },
  {
   "cell_type": "code",
   "execution_count": null,
   "id": "21ace0df",
   "metadata": {},
   "outputs": [],
   "source": [
    "#13. Calculate the mean, median, and mode of grouped data\n"
   ]
  },
  {
   "cell_type": "code",
   "execution_count": null,
   "id": "24471150",
   "metadata": {},
   "outputs": [],
   "source": [
    "#14. Simulate data using Python and calculate its central tendency and dispersion."
   ]
  },
  {
   "cell_type": "code",
   "execution_count": null,
   "id": "0ac9a95a",
   "metadata": {},
   "outputs": [],
   "source": []
  },
  {
   "cell_type": "code",
   "execution_count": null,
   "id": "bcb4a4ac",
   "metadata": {},
   "outputs": [],
   "source": []
  }
 ],
 "metadata": {
  "kernelspec": {
   "display_name": "Python 3",
   "language": "python",
   "name": "python3"
  },
  "language_info": {
   "codemirror_mode": {
    "name": "ipython",
    "version": 3
   },
   "file_extension": ".py",
   "mimetype": "text/x-python",
   "name": "python",
   "nbconvert_exporter": "python",
   "pygments_lexer": "ipython3",
   "version": "3.12.4"
  }
 },
 "nbformat": 4,
 "nbformat_minor": 5
}
